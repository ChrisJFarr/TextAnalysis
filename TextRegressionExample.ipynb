{
 "cells": [
  {
   "cell_type": "code",
   "execution_count": 3,
   "metadata": {},
   "outputs": [],
   "source": [
    "import pandas as pd"
   ]
  },
  {
   "cell_type": "code",
   "execution_count": 2,
   "metadata": {},
   "outputs": [
    {
     "ename": "ModuleNotFoundError",
     "evalue": "No module named 'nltk'",
     "output_type": "error",
     "traceback": [
      "\u001b[1;31m---------------------------------------------------------------------------\u001b[0m",
      "\u001b[1;31mModuleNotFoundError\u001b[0m                       Traceback (most recent call last)",
      "\u001b[1;32m<ipython-input-2-32fd299b54ee>\u001b[0m in \u001b[0;36m<module>\u001b[1;34m()\u001b[0m\n\u001b[1;32m----> 1\u001b[1;33m \u001b[1;32mfrom\u001b[0m \u001b[0msrc\u001b[0m\u001b[1;33m.\u001b[0m\u001b[0mtext_processing\u001b[0m \u001b[1;32mimport\u001b[0m \u001b[0mnormalize_corpus\u001b[0m\u001b[1;33m,\u001b[0m \u001b[0mtokenize_text\u001b[0m\u001b[1;33m\u001b[0m\u001b[0m\n\u001b[0m\u001b[0;32m      2\u001b[0m \u001b[1;32mimport\u001b[0m \u001b[0mpandas\u001b[0m \u001b[1;32mas\u001b[0m \u001b[0mpd\u001b[0m\u001b[1;33m\u001b[0m\u001b[0m\n\u001b[0;32m      3\u001b[0m \u001b[1;32mimport\u001b[0m \u001b[0mnumpy\u001b[0m \u001b[1;32mas\u001b[0m \u001b[0mnp\u001b[0m\u001b[1;33m\u001b[0m\u001b[0m\n\u001b[0;32m      4\u001b[0m \u001b[1;32mimport\u001b[0m \u001b[0mpprint\u001b[0m\u001b[1;33m\u001b[0m\u001b[0m\n\u001b[0;32m      5\u001b[0m \u001b[1;32mfrom\u001b[0m \u001b[0msklearn\u001b[0m\u001b[1;33m.\u001b[0m\u001b[0mmodel_selection\u001b[0m \u001b[1;32mimport\u001b[0m \u001b[0mtrain_test_split\u001b[0m\u001b[1;33m\u001b[0m\u001b[0m\n",
      "\u001b[1;32m~\\Documents\\GitHub\\TextAnalysis\\src\\text_processing.py\u001b[0m in \u001b[0;36m<module>\u001b[1;34m()\u001b[0m\n\u001b[0;32m      9\u001b[0m \u001b[1;32mfrom\u001b[0m \u001b[0mre\u001b[0m \u001b[1;32mimport\u001b[0m \u001b[0mcompile\u001b[0m\u001b[1;33m,\u001b[0m \u001b[0mIGNORECASE\u001b[0m\u001b[1;33m,\u001b[0m \u001b[0mDOTALL\u001b[0m\u001b[1;33m,\u001b[0m \u001b[0msub\u001b[0m\u001b[1;33m,\u001b[0m \u001b[0mescape\u001b[0m\u001b[1;33m\u001b[0m\u001b[0m\n\u001b[0;32m     10\u001b[0m \u001b[1;32mfrom\u001b[0m \u001b[0mstring\u001b[0m \u001b[1;32mimport\u001b[0m \u001b[0mpunctuation\u001b[0m\u001b[1;33m\u001b[0m\u001b[0m\n\u001b[1;32m---> 11\u001b[1;33m \u001b[1;32mfrom\u001b[0m \u001b[0mnltk\u001b[0m\u001b[1;33m.\u001b[0m\u001b[0mstem\u001b[0m \u001b[1;32mimport\u001b[0m \u001b[0mWordNetLemmatizer\u001b[0m\u001b[1;33m\u001b[0m\u001b[0m\n\u001b[0m\u001b[0;32m     12\u001b[0m \u001b[1;32mfrom\u001b[0m \u001b[0mnltk\u001b[0m\u001b[1;33m.\u001b[0m\u001b[0mtag\u001b[0m \u001b[1;32mimport\u001b[0m \u001b[0mpos_tag\u001b[0m\u001b[1;33m\u001b[0m\u001b[0m\n\u001b[0;32m     13\u001b[0m \u001b[1;32mfrom\u001b[0m \u001b[0mnltk\u001b[0m\u001b[1;33m.\u001b[0m\u001b[0mcorpus\u001b[0m \u001b[1;32mimport\u001b[0m \u001b[0mwordnet\u001b[0m \u001b[1;32mas\u001b[0m \u001b[0mwn\u001b[0m\u001b[1;33m\u001b[0m\u001b[0m\n",
      "\u001b[1;31mModuleNotFoundError\u001b[0m: No module named 'nltk'"
     ]
    }
   ],
   "source": [
    "from src.text_processing import normalize_corpus, tokenize_text\n",
    "import pandas as pd\n",
    "import numpy as np\n",
    "import pprint\n",
    "from sklearn.model_selection import train_test_split\n",
    "from sklearn.feature_extraction.text import CountVectorizer, TfidfVectorizer\n",
    "from sklearn.ensemble import RandomForestRegressor\n",
    "from sklearn.model_selection import cross_val_predict, GridSearchCV\n",
    "from sklearn.metrics import accuracy_score, mean_squared_error\n",
    "from sklearn.pipeline import Pipeline\n",
    "import time"
   ]
  },
  {
   "cell_type": "code",
   "execution_count": null,
   "metadata": {},
   "outputs": [],
   "source": [
    "\"\"\" Load and inspect data \"\"\"\n",
    "# https://www.kaggle.com/nicapotato/womens-ecommerce-clothing-reviews\n",
    "df = pd.read_csv(\"womens_clothing_ecommerce_reviews.csv\", index_col=0)\n",
    "df.columns = [col.replace(\" \", \"_\").lower() for col in df.columns]  # Standardize column names\n",
    "print(df.isna().sum())\n",
    "\n",
    "# Keep only rows with complete review field\n",
    "keep_index = ~df.review_text.isna()\n",
    "df = df.loc[keep_index, :]"
   ]
  },
  {
   "cell_type": "code",
   "execution_count": null,
   "metadata": {},
   "outputs": [],
   "source": [
    "# Using only review_text, how accurately can we predict the rating?\n",
    "data = df.loc[:, [\"review_text\", \"rating\"]]\n",
    "\n",
    "# Hold out a 10% validation set for performance benchmarking\n",
    "train_data, validation_data = train_test_split(data, test_size=.10, random_state=0)\n",
    "train_data, validation_data = train_data.copy(), validation_data.copy()"
   ]
  },
  {
   "cell_type": "code",
   "execution_count": null,
   "metadata": {},
   "outputs": [],
   "source": [
    "# Preprocess text\n",
    "train_text_norm = normalize_corpus(train_data.review_text)\n",
    "# Extract target\n",
    "train_target = train_data.rating"
   ]
  },
  {
   "cell_type": "code",
   "execution_count": null,
   "metadata": {},
   "outputs": [],
   "source": [
    "# CountVectorizer\n",
    "count_vectorizer = CountVectorizer(ngram_range=(1, 1),\n",
    "                                   stop_words=\"english\",\n",
    "                                   max_df=.95,\n",
    "                                   min_df=.05)\n",
    "train_count_vectorized = count_vectorizer.fit_transform(train_text_norm)"
   ]
  },
  {
   "cell_type": "code",
   "execution_count": null,
   "metadata": {},
   "outputs": [],
   "source": [
    "# What does the data look like?\n",
    "# TODO get the array and show the data train_count_vectorized\n",
    "train_count_vectorized_array = train_count_vectorized.toarray()\n",
    "train_count_vectorized_array.shape\n",
    "# TODO show the features that were used\n",
    "count_vectorizer.get_feature_names()"
   ]
  },
  {
   "cell_type": "code",
   "execution_count": null,
   "metadata": {},
   "outputs": [],
   "source": [
    "# Cross-validate Predict\n",
    "model = RandomForestRegressor(n_estimators=10, max_depth=5)\n",
    "predict = cross_val_predict(model, train_count_vectorized, train_target)\n",
    "predict_processed = [int(round(i)) for i in predict]\n",
    "\n",
    "# Analyze accuracy\n",
    "print(\"Accuracy: %.2f percent\" % (accuracy_score(train_target, predict_processed) * 100))\n",
    "# Analyze Root Mean Squared Error\n",
    "print(\"RMSE: %.2f \" % np.sqrt(mean_squared_error(train_target, predict)))"
   ]
  },
  {
   "cell_type": "code",
   "execution_count": null,
   "metadata": {},
   "outputs": [],
   "source": [
    "# TfidfVectorizer\n",
    "tfidf_vectorizer = TfidfVectorizer(ngram_range=(1, 1),\n",
    "                                   stop_words=\"english\",\n",
    "                                   max_df=.95,\n",
    "                                   min_df=.05)\n",
    "train_tfidf_vectorized = tfidf_vectorizer.fit_transform(train_text_norm)\n"
   ]
  },
  {
   "cell_type": "code",
   "execution_count": null,
   "metadata": {},
   "outputs": [],
   "source": [
    "# What does the data look like?\n",
    "# TODO get the array and show the data train_count_vectorized\n",
    "# TODO show the features that were used\n",
    "# TODO show feature importance? Help the audience understand the inputs and outputs"
   ]
  },
  {
   "cell_type": "code",
   "execution_count": null,
   "metadata": {},
   "outputs": [],
   "source": [
    "# Cross-validate Predict\n",
    "model = RandomForestRegressor(n_estimators=10, max_depth=5)\n",
    "predict = cross_val_predict(model, train_tfidf_vectorized, train_target)\n",
    "predict_processed = [int(round(i)) for i in predict]\n",
    "\n",
    "# Analyze accuracy\n",
    "print(\"Accuracy: %.2f percent\" % (accuracy_score(train_target, predict_processed) * 100))\n",
    "# Analyze Root Mean Squared Error\n",
    "print(\"RMSE: %.2f \" % np.sqrt(mean_squared_error(train_target, predict)))"
   ]
  },
  {
   "cell_type": "code",
   "execution_count": null,
   "metadata": {},
   "outputs": [],
   "source": [
    "# Tuning parameters using a pipeline\n",
    "\n",
    "pipeline = Pipeline([(\"vect\", TfidfVectorizer(max_features=10000)),\n",
    "                     (\"model\", RandomForestRegressor(random_state=0))])\n",
    "\n",
    "parameters = {\n",
    "    \"vect__ngram_range\": [(1, 2)],\n",
    "    \"vect__max_df\": [1.],\n",
    "    \"vect__min_df\": [.04, .05, .06],\n",
    "    \"model__n_estimators\": [50],\n",
    "    \"model__max_depth\": [30]\n",
    "}\n",
    "\n",
    "grid = GridSearchCV(pipeline, parameters, cv=5, n_jobs=3)\n",
    "\n",
    "start = time.time()\n",
    "grid.fit(train_text_norm, train_target)\n",
    "stop = time.time()\n",
    "print(\"total time: \", stop-start)"
   ]
  },
  {
   "cell_type": "code",
   "execution_count": null,
   "metadata": {},
   "outputs": [],
   "source": [
    "# Analyze results\n",
    "pprint.pprint(grid.best_params_)\n",
    "\n",
    "# Generate predictions\n",
    "model = grid.best_estimator_\n",
    "predict = cross_val_predict(model, train_text_norm, train_target, cv=5, n_jobs=3)\n",
    "predict_processed = [int(round(i)) for i in predict]\n",
    "\n",
    "# Analyze accuracy\n",
    "print(\"Accuracy: %.2f percent\" % (accuracy_score(train_target, predict_processed) * 100))\n",
    "# Analyze Root Mean Squared Error\n",
    "print(\"RMSE: %.2f \" % np.sqrt(mean_squared_error(train_target, predict)))"
   ]
  }
 ],
 "metadata": {
  "kernelspec": {
   "display_name": "Python 3",
   "language": "python",
   "name": "python3"
  },
  "language_info": {
   "codemirror_mode": {
    "name": "ipython",
    "version": 3
   },
   "file_extension": ".py",
   "mimetype": "text/x-python",
   "name": "python",
   "nbconvert_exporter": "python",
   "pygments_lexer": "ipython3",
   "version": "3.6.3"
  }
 },
 "nbformat": 4,
 "nbformat_minor": 1
}
