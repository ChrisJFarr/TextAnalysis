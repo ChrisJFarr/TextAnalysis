{
 "cells": [
  {
   "cell_type": "code",
   "execution_count": 1,
   "metadata": {},
   "outputs": [
    {
     "name": "stderr",
     "output_type": "stream",
     "text": [
      "C:\\Miniconda3\\envs\\text\\lib\\site-packages\\sklearn\\ensemble\\weight_boosting.py:29: DeprecationWarning: numpy.core.umath_tests is an internal NumPy module and should not be imported. It will be removed in a future NumPy release.\n",
      "  from numpy.core.umath_tests import inner1d\n"
     ]
    }
   ],
   "source": [
    "from src.text_processing import normalize_corpus, tokenize_text\n",
    "import pandas as pd\n",
    "import numpy as np\n",
    "import pprint\n",
    "from sklearn.model_selection import train_test_split\n",
    "from sklearn.feature_extraction.text import CountVectorizer, TfidfVectorizer\n",
    "from sklearn.ensemble import RandomForestRegressor\n",
    "from sklearn.model_selection import cross_val_predict, GridSearchCV\n",
    "from sklearn.metrics import accuracy_score, mean_squared_error\n",
    "from sklearn.pipeline import Pipeline\n",
    "import time"
   ]
  },
  {
   "cell_type": "markdown",
   "metadata": {},
   "source": [
    "### Load and Inspect Data"
   ]
  },
  {
   "cell_type": "code",
   "execution_count": 2,
   "metadata": {},
   "outputs": [
    {
     "name": "stdout",
     "output_type": "stream",
     "text": [
      "clothing_id                   0\n",
      "age                           0\n",
      "title                      3810\n",
      "review_text                 845\n",
      "rating                        0\n",
      "recommended_ind               0\n",
      "positive_feedback_count       0\n",
      "division_name                14\n",
      "department_name              14\n",
      "class_name                   14\n",
      "dtype: int64\n"
     ]
    }
   ],
   "source": [
    "\"\"\" Load and inspect data \"\"\"\n",
    "# https://www.kaggle.com/nicapotato/womens-ecommerce-clothing-reviews\n",
    "df = pd.read_csv(\"womens_clothing_ecommerce_reviews.csv\", index_col=0)\n",
    "df.columns = [col.replace(\" \", \"_\").lower() for col in df.columns]  # Standardize column names\n",
    "print(df.isna().sum())\n",
    "\n",
    "# Keep only rows with complete review field\n",
    "keep_index = ~df.review_text.isna()\n",
    "df = df.loc[keep_index, :]"
   ]
  },
  {
   "cell_type": "code",
   "execution_count": 7,
   "metadata": {},
   "outputs": [
    {
     "data": {
      "text/html": [
       "<div>\n",
       "<style scoped>\n",
       "    .dataframe tbody tr th:only-of-type {\n",
       "        vertical-align: middle;\n",
       "    }\n",
       "\n",
       "    .dataframe tbody tr th {\n",
       "        vertical-align: top;\n",
       "    }\n",
       "\n",
       "    .dataframe thead th {\n",
       "        text-align: right;\n",
       "    }\n",
       "</style>\n",
       "<table border=\"1\" class=\"dataframe\">\n",
       "  <thead>\n",
       "    <tr style=\"text-align: right;\">\n",
       "      <th></th>\n",
       "      <th>clothing_id</th>\n",
       "      <th>age</th>\n",
       "      <th>title</th>\n",
       "      <th>review_text</th>\n",
       "      <th>rating</th>\n",
       "      <th>recommended_ind</th>\n",
       "      <th>positive_feedback_count</th>\n",
       "      <th>division_name</th>\n",
       "      <th>department_name</th>\n",
       "      <th>class_name</th>\n",
       "    </tr>\n",
       "  </thead>\n",
       "  <tbody>\n",
       "    <tr>\n",
       "      <th>0</th>\n",
       "      <td>767</td>\n",
       "      <td>33</td>\n",
       "      <td>NaN</td>\n",
       "      <td>Absolutely wonderful - silky and sexy and comf...</td>\n",
       "      <td>4</td>\n",
       "      <td>1</td>\n",
       "      <td>0</td>\n",
       "      <td>Initmates</td>\n",
       "      <td>Intimate</td>\n",
       "      <td>Intimates</td>\n",
       "    </tr>\n",
       "    <tr>\n",
       "      <th>1</th>\n",
       "      <td>1080</td>\n",
       "      <td>34</td>\n",
       "      <td>NaN</td>\n",
       "      <td>Love this dress!  it's sooo pretty.  i happene...</td>\n",
       "      <td>5</td>\n",
       "      <td>1</td>\n",
       "      <td>4</td>\n",
       "      <td>General</td>\n",
       "      <td>Dresses</td>\n",
       "      <td>Dresses</td>\n",
       "    </tr>\n",
       "    <tr>\n",
       "      <th>2</th>\n",
       "      <td>1077</td>\n",
       "      <td>60</td>\n",
       "      <td>Some major design flaws</td>\n",
       "      <td>I had such high hopes for this dress and reall...</td>\n",
       "      <td>3</td>\n",
       "      <td>0</td>\n",
       "      <td>0</td>\n",
       "      <td>General</td>\n",
       "      <td>Dresses</td>\n",
       "      <td>Dresses</td>\n",
       "    </tr>\n",
       "    <tr>\n",
       "      <th>3</th>\n",
       "      <td>1049</td>\n",
       "      <td>50</td>\n",
       "      <td>My favorite buy!</td>\n",
       "      <td>I love, love, love this jumpsuit. it's fun, fl...</td>\n",
       "      <td>5</td>\n",
       "      <td>1</td>\n",
       "      <td>0</td>\n",
       "      <td>General Petite</td>\n",
       "      <td>Bottoms</td>\n",
       "      <td>Pants</td>\n",
       "    </tr>\n",
       "    <tr>\n",
       "      <th>4</th>\n",
       "      <td>847</td>\n",
       "      <td>47</td>\n",
       "      <td>Flattering shirt</td>\n",
       "      <td>This shirt is very flattering to all due to th...</td>\n",
       "      <td>5</td>\n",
       "      <td>1</td>\n",
       "      <td>6</td>\n",
       "      <td>General</td>\n",
       "      <td>Tops</td>\n",
       "      <td>Blouses</td>\n",
       "    </tr>\n",
       "  </tbody>\n",
       "</table>\n",
       "</div>"
      ],
      "text/plain": [
       "   clothing_id  age                    title  \\\n",
       "0          767   33                      NaN   \n",
       "1         1080   34                      NaN   \n",
       "2         1077   60  Some major design flaws   \n",
       "3         1049   50         My favorite buy!   \n",
       "4          847   47         Flattering shirt   \n",
       "\n",
       "                                         review_text  rating  recommended_ind  \\\n",
       "0  Absolutely wonderful - silky and sexy and comf...       4                1   \n",
       "1  Love this dress!  it's sooo pretty.  i happene...       5                1   \n",
       "2  I had such high hopes for this dress and reall...       3                0   \n",
       "3  I love, love, love this jumpsuit. it's fun, fl...       5                1   \n",
       "4  This shirt is very flattering to all due to th...       5                1   \n",
       "\n",
       "   positive_feedback_count   division_name department_name class_name  \n",
       "0                        0       Initmates        Intimate  Intimates  \n",
       "1                        4         General         Dresses    Dresses  \n",
       "2                        0         General         Dresses    Dresses  \n",
       "3                        0  General Petite         Bottoms      Pants  \n",
       "4                        6         General            Tops    Blouses  "
      ]
     },
     "execution_count": 7,
     "metadata": {},
     "output_type": "execute_result"
    }
   ],
   "source": [
    "# What are we dealing with?\n",
    "df.head()"
   ]
  },
  {
   "cell_type": "markdown",
   "metadata": {},
   "source": [
    "### Pull out `review_text` and `rating`"
   ]
  },
  {
   "cell_type": "code",
   "execution_count": 3,
   "metadata": {},
   "outputs": [],
   "source": [
    "# Using only review_text, how accurately can we predict the rating?\n",
    "data = df.loc[:, [\"review_text\", \"rating\"]]\n",
    "\n",
    "# Hold out a 10% validation set for performance benchmarking\n",
    "train_data, validation_data = train_test_split(data, test_size=.10, random_state=0)\n",
    "train_data, validation_data = train_data.copy(), validation_data.copy()"
   ]
  },
  {
   "cell_type": "markdown",
   "metadata": {},
   "source": [
    "### Preprocess Text\n",
    "* Expand contractions\n",
    "* Lemmatize\n",
    "* Remove stopwords (should we remove them? hmmmm)"
   ]
  },
  {
   "cell_type": "code",
   "execution_count": 4,
   "metadata": {},
   "outputs": [],
   "source": [
    "# Preprocess text\n",
    "train_text_norm = normalize_corpus(train_data.review_text)\n",
    "# Extract target\n",
    "train_target = train_data.rating"
   ]
  },
  {
   "cell_type": "markdown",
   "metadata": {},
   "source": [
    "### Fit a Vectorizer and Transform"
   ]
  },
  {
   "cell_type": "code",
   "execution_count": 5,
   "metadata": {},
   "outputs": [],
   "source": [
    "# CountVectorizer\n",
    "count_vectorizer = CountVectorizer(ngram_range=(1, 1),\n",
    "                                   stop_words=\"english\",\n",
    "                                   max_df=.95,\n",
    "                                   min_df=.05)\n",
    "train_count_vectorized = count_vectorizer.fit_transform(train_text_norm)"
   ]
  },
  {
   "cell_type": "code",
   "execution_count": 19,
   "metadata": {},
   "outputs": [
    {
     "name": "stdout",
     "output_type": "stream",
     "text": [
      "Here is the array shape \n",
      " (20376, 85) \n",
      "\n",
      "Here are the features extracted \n",
      " ['arm', 'beautiful', 'big', 'bit', 'black', 'buy', 'color', 'come', 'comfortable', 'cut', 'cute', 'definitely', 'design', 'dress', 'fabric', 'fall', 'feel', 'fit', 'flatter', 'flattering', 'good', 'great', 'high', 'jean', 'large', 'lb', 'length', 'like', 'little', 'long', 'look', 'loose', 'love', 'make', 'material', 'medium', 'model', 'need', 'nice', 'online', 'order', 'pair', 'pant', 'perfect', 'perfectly', 'person', 'petite', 'picture', 'pretty', 'price', 'purchase', 'quality', 'really', 'retailer', 'return', 'review', 'right', 'run', 'sale', 'say', 'shirt', 'short', 'shoulder', 'size', 'skirt', 'sleeve', 'small', 'soft', 'store', 'style', 'summer', 'super', 'sweater', 'think', 'tight', 'time', 'true', 'try', 'usually', 'waist', 'want', 'way', 'wear', 'white', 'work'] \n",
      "\n",
      "Here is what goes into the model \n",
      "    arm  beautiful  big  bit  black  buy  color  come  comfortable  cut  ...   \\\n",
      "0    0          0    0    0      0    0      1     0            0    0  ...    \n",
      "1    0          0    0    0      0    0      0     0            0    0  ...    \n",
      "2    0          0    0    0      0    0      0     0            0    0  ...    \n",
      "3    0          0    0    1      0    0      0     0            0    0  ...    \n",
      "4    0          0    0    0      0    0      0     0            0    0  ...    \n",
      "\n",
      "   time  true  try  usually  waist  want  way  wear  white  work  \n",
      "0     0     1    0        0      0     0    0     1      0     0  \n",
      "1     0     0    0        0      0     0    0     2      0     0  \n",
      "2     0     0    0        0      0     0    0     1      0     0  \n",
      "3     0     0    0        0      0     0    0     0      0     0  \n",
      "4     0     0    0        0      0     0    0     0      0     0  \n",
      "\n",
      "[5 rows x 85 columns] \n",
      "\n"
     ]
    }
   ],
   "source": [
    "# What does the data look like?\n",
    "# Get the array and show the data train_count_vectorized\n",
    "train_count_vectorized_array = train_count_vectorized.toarray()\n",
    "print(\"Here is the array shape \\n\", train_count_vectorized_array.shape, \"\\n\")\n",
    "# Show the features that were used\n",
    "features = count_vectorizer.get_feature_names()\n",
    "print(\"Here are the features extracted \\n\", features, \"\\n\")\n",
    "# Show a snip of the data\n",
    "print(\"Here is what goes into the model \\n\", \n",
    "      pd.DataFrame(data=train_count_vectorized_array[:10, :], columns=features).head(), \"\\n\")"
   ]
  },
  {
   "cell_type": "code",
   "execution_count": 8,
   "metadata": {},
   "outputs": [
    {
     "name": "stdout",
     "output_type": "stream",
     "text": [
      "Accuracy: 38.36 percent\n",
      "RMSE: 1.02 \n"
     ]
    }
   ],
   "source": [
    "# Cross-validate Predict\n",
    "model = RandomForestRegressor(n_estimators=10, max_depth=5)\n",
    "predict = cross_val_predict(model, train_count_vectorized, train_target)\n",
    "predict_processed = [int(round(i)) for i in predict]\n",
    "\n",
    "# Analyze accuracy\n",
    "print(\"Accuracy: %.2f percent\" % (accuracy_score(train_target, predict_processed) * 100))\n",
    "# Analyze Root Mean Squared Error\n",
    "print(\"RMSE: %.2f \" % np.sqrt(mean_squared_error(train_target, predict)))"
   ]
  },
  {
   "cell_type": "code",
   "execution_count": 9,
   "metadata": {},
   "outputs": [],
   "source": [
    "# TfidfVectorizer\n",
    "tfidf_vectorizer = TfidfVectorizer(ngram_range=(1, 1),\n",
    "                                   stop_words=\"english\",\n",
    "                                   max_df=.95,\n",
    "                                   min_df=.05)\n",
    "train_tfidf_vectorized = tfidf_vectorizer.fit_transform(train_text_norm)\n"
   ]
  },
  {
   "cell_type": "code",
   "execution_count": 20,
   "metadata": {},
   "outputs": [
    {
     "name": "stdout",
     "output_type": "stream",
     "text": [
      "Here is the array shape \n",
      " (20376, 85) \n",
      "\n",
      "Here are the features extracted \n",
      " ['arm', 'beautiful', 'big', 'bit', 'black', 'buy', 'color', 'come', 'comfortable', 'cut', 'cute', 'definitely', 'design', 'dress', 'fabric', 'fall', 'feel', 'fit', 'flatter', 'flattering', 'good', 'great', 'high', 'jean', 'large', 'lb', 'length', 'like', 'little', 'long', 'look', 'loose', 'love', 'make', 'material', 'medium', 'model', 'need', 'nice', 'online', 'order', 'pair', 'pant', 'perfect', 'perfectly', 'person', 'petite', 'picture', 'pretty', 'price', 'purchase', 'quality', 'really', 'retailer', 'return', 'review', 'right', 'run', 'sale', 'say', 'shirt', 'short', 'shoulder', 'size', 'skirt', 'sleeve', 'small', 'soft', 'store', 'style', 'summer', 'super', 'sweater', 'think', 'tight', 'time', 'true', 'try', 'usually', 'waist', 'want', 'way', 'wear', 'white', 'work'] \n",
      "\n",
      "Here is what goes into the model \n",
      "    arm  beautiful  big       bit  black  buy     color  come  comfortable  \\\n",
      "0  0.0        0.0  0.0  0.000000    0.0  0.0  0.250457   0.0          0.0   \n",
      "1  0.0        0.0  0.0  0.000000    0.0  0.0  0.000000   0.0          0.0   \n",
      "2  0.0        0.0  0.0  0.000000    0.0  0.0  0.000000   0.0          0.0   \n",
      "3  0.0        0.0  0.0  0.466047    0.0  0.0  0.000000   0.0          0.0   \n",
      "4  0.0        0.0  0.0  0.000000    0.0  0.0  0.000000   0.0          0.0   \n",
      "\n",
      "   cut  ...   time     true  try  usually  waist  want  way      wear  white  \\\n",
      "0  0.0  ...    0.0  0.39307  0.0      0.0    0.0   0.0  0.0  0.224330    0.0   \n",
      "1  0.0  ...    0.0  0.00000  0.0      0.0    0.0   0.0  0.0  0.384439    0.0   \n",
      "2  0.0  ...    0.0  0.00000  0.0      0.0    0.0   0.0  0.0  0.209238    0.0   \n",
      "3  0.0  ...    0.0  0.00000  0.0      0.0    0.0   0.0  0.0  0.000000    0.0   \n",
      "4  0.0  ...    0.0  0.00000  0.0      0.0    0.0   0.0  0.0  0.000000    0.0   \n",
      "\n",
      "   work  \n",
      "0   0.0  \n",
      "1   0.0  \n",
      "2   0.0  \n",
      "3   0.0  \n",
      "4   0.0  \n",
      "\n",
      "[5 rows x 85 columns] \n",
      "\n"
     ]
    }
   ],
   "source": [
    "# What does the data look like?\n",
    "# Get the array and show the data train_count_vectorized\n",
    "train_tfidf_vectorized_array = train_tfidf_vectorized.toarray()\n",
    "print(\"Here is the array shape \\n\", train_tfidf_vectorized_array.shape, \"\\n\")\n",
    "# Show the features that were used\n",
    "features = tfidf_vectorizer.get_feature_names()\n",
    "print(\"Here are the features extracted \\n\", features, \"\\n\")\n",
    "# Show a snip of the data\n",
    "print(\"Here is what goes into the model \\n\", \n",
    "      pd.DataFrame(data=train_tfidf_vectorized_array[:10, :], columns=features).head(), \"\\n\")"
   ]
  },
  {
   "cell_type": "code",
   "execution_count": 10,
   "metadata": {},
   "outputs": [
    {
     "name": "stdout",
     "output_type": "stream",
     "text": [
      "Accuracy: 37.39 percent\n",
      "RMSE: 1.02 \n"
     ]
    }
   ],
   "source": [
    "# Cross-validate Predict\n",
    "model = RandomForestRegressor(n_estimators=10, max_depth=5)\n",
    "predict = cross_val_predict(model, train_tfidf_vectorized, train_target)\n",
    "predict_processed = [int(round(i)) for i in predict]\n",
    "\n",
    "# Analyze accuracy\n",
    "print(\"Accuracy: %.2f percent\" % (accuracy_score(train_target, predict_processed) * 100))\n",
    "# Analyze Root Mean Squared Error\n",
    "print(\"RMSE: %.2f \" % np.sqrt(mean_squared_error(train_target, predict)))"
   ]
  },
  {
   "cell_type": "markdown",
   "metadata": {},
   "source": [
    "### Tune all relevant parameters using Grid-Search and Pipeline"
   ]
  },
  {
   "cell_type": "code",
   "execution_count": 11,
   "metadata": {},
   "outputs": [
    {
     "name": "stdout",
     "output_type": "stream",
     "text": [
      "total time:  354.0645890235901\n"
     ]
    }
   ],
   "source": [
    "# Tuning parameters using a pipeline\n",
    "\n",
    "pipeline = Pipeline([(\"vect\", TfidfVectorizer(max_features=10000)),\n",
    "                     (\"model\", RandomForestRegressor(random_state=0))])\n",
    "\n",
    "parameters = {\n",
    "    \"vect__ngram_range\": [(1, 2)],  # <- Notice (1, 2) vs (1, 1)\n",
    "    \"vect__max_df\": [1.],\n",
    "    \"vect__min_df\": [.04],\n",
    "    \"model__n_estimators\": [50],\n",
    "    \"model__max_depth\": [30]\n",
    "}\n",
    "\n",
    "grid = GridSearchCV(pipeline, parameters, cv=5, n_jobs=3)\n",
    "\n",
    "start = time.time()\n",
    "grid.fit(train_text_norm, train_target)\n",
    "stop = time.time()\n",
    "print(\"total time: \", stop-start)"
   ]
  },
  {
   "cell_type": "code",
   "execution_count": 14,
   "metadata": {},
   "outputs": [
    {
     "name": "stdout",
     "output_type": "stream",
     "text": [
      "{'model__max_depth': 30,\n",
      " 'model__n_estimators': 50,\n",
      " 'vect__max_df': 1.0,\n",
      " 'vect__min_df': 0.04,\n",
      " 'vect__ngram_range': (1, 2)}\n",
      "Accuracy: 48.48 percent\n",
      "RMSE: 0.93 \n"
     ]
    }
   ],
   "source": [
    "# Analyze results\n",
    "pprint.pprint(grid.best_params_)\n",
    "\n",
    "# Generate predictions\n",
    "model = grid.best_estimator_\n",
    "predict = cross_val_predict(model, train_text_norm, train_target, cv=5, n_jobs=3)\n",
    "predict_processed = [int(round(i)) for i in predict]\n",
    "\n",
    "# Analyze accuracy\n",
    "print(\"Accuracy: %.2f percent\" % (accuracy_score(train_target, predict_processed) * 100))\n",
    "# Analyze Root Mean Squared Error\n",
    "print(\"RMSE: %.2f \" % np.sqrt(mean_squared_error(train_target, predict)))"
   ]
  },
  {
   "cell_type": "markdown",
   "metadata": {},
   "source": [
    "## TODO's\n",
    "### Can you...\n",
    "### * Analyze the Validation performance?\n",
    "### * Improve the score? (try a different model, different parameters... try without removing stop words?)"
   ]
  }
 ],
 "metadata": {
  "kernelspec": {
   "display_name": "Python text",
   "language": "python",
   "name": "text"
  },
  "language_info": {
   "codemirror_mode": {
    "name": "ipython",
    "version": 3
   },
   "file_extension": ".py",
   "mimetype": "text/x-python",
   "name": "python",
   "nbconvert_exporter": "python",
   "pygments_lexer": "ipython3",
   "version": "3.6.6"
  }
 },
 "nbformat": 4,
 "nbformat_minor": 1
}
